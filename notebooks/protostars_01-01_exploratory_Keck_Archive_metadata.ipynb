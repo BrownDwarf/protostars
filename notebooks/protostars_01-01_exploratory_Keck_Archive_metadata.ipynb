{
 "cells": [
  {
   "cell_type": "markdown",
   "metadata": {},
   "source": [
    "# Protostars\n",
    "\n",
    "## 01- Exploratory Data Analysis\n",
    "### I. Metadata\n",
    "\n",
    "This notebook explores the metadata downloaded from the [Keck archive](http://www2.keck.hawaii.edu/koa/public/koa.php).  I queried for the coordinated of S68N, and then output the Keck Archive table results to a csv file `metadata/sci_ns_29923.tbl`.  \n",
    "\n",
    "Michael Gully-Santiago  \n",
    "February 21, 2017\n"
   ]
  },
  {
   "cell_type": "markdown",
   "metadata": {},
   "source": [
    "Let's see how many observations of this target there are, and what the observation properties were."
   ]
  },
  {
   "cell_type": "code",
   "execution_count": 1,
   "metadata": {
    "collapsed": false
   },
   "outputs": [],
   "source": [
    "import pandas as pd\n",
    "import astropy"
   ]
  },
  {
   "cell_type": "code",
   "execution_count": 2,
   "metadata": {
    "collapsed": true
   },
   "outputs": [],
   "source": [
    "from astropy.io import ascii"
   ]
  },
  {
   "cell_type": "code",
   "execution_count": 3,
   "metadata": {
    "collapsed": true
   },
   "outputs": [],
   "source": [
    "sci_tbl = ascii.read('../data/metadata/sci_ns_29923.tbl')"
   ]
  },
  {
   "cell_type": "code",
   "execution_count": 4,
   "metadata": {
    "collapsed": false
   },
   "outputs": [],
   "source": [
    "sci_df = sci_tbl.to_pandas()"
   ]
  },
  {
   "cell_type": "code",
   "execution_count": 5,
   "metadata": {
    "collapsed": false
   },
   "outputs": [
    {
     "data": {
      "text/html": [
       "<div>\n",
       "<table border=\"1\" class=\"dataframe\">\n",
       "  <thead>\n",
       "    <tr style=\"text-align: right;\">\n",
       "      <th></th>\n",
       "      <th>koaid</th>\n",
       "      <th>instrument</th>\n",
       "      <th>targname</th>\n",
       "      <th>object</th>\n",
       "      <th>imagetyp</th>\n",
       "      <th>frameno</th>\n",
       "      <th>ra</th>\n",
       "      <th>dec</th>\n",
       "      <th>date_obs</th>\n",
       "      <th>ut</th>\n",
       "      <th>...</th>\n",
       "      <th>filehand</th>\n",
       "      <th>semid</th>\n",
       "      <th>propmin</th>\n",
       "      <th>detmode</th>\n",
       "      <th>dispers</th>\n",
       "      <th>disppos</th>\n",
       "      <th>echlpos</th>\n",
       "      <th>filname</th>\n",
       "      <th>slitname</th>\n",
       "      <th>prop</th>\n",
       "    </tr>\n",
       "  </thead>\n",
       "  <tbody>\n",
       "    <tr>\n",
       "      <th>0</th>\n",
       "      <td>NC.20110611.47928.fits</td>\n",
       "      <td>NIRSPEC</td>\n",
       "      <td>Serp 68N/SMM9</td>\n",
       "      <td>HIP 91748 A0</td>\n",
       "      <td>object</td>\n",
       "      <td>62.0</td>\n",
       "      <td>277.45083</td>\n",
       "      <td>1.27850</td>\n",
       "      <td>2011-06-11</td>\n",
       "      <td>13:18:48.57</td>\n",
       "      <td>...</td>\n",
       "      <td>/koadata7/NIRSPEC/20110611/lev0/scam/NC.201106...</td>\n",
       "      <td>2011a_n091ns</td>\n",
       "      <td>18.0</td>\n",
       "      <td>scam</td>\n",
       "      <td>NaN</td>\n",
       "      <td>35.61</td>\n",
       "      <td>179.7</td>\n",
       "      <td>NIRSPEC-7</td>\n",
       "      <td>42x0.760</td>\n",
       "      <td>f</td>\n",
       "    </tr>\n",
       "    <tr>\n",
       "      <th>1</th>\n",
       "      <td>NC.20110611.47949.fits</td>\n",
       "      <td>NIRSPEC</td>\n",
       "      <td>Serp 68N/SMM9</td>\n",
       "      <td>HIP 91748 A0</td>\n",
       "      <td>object</td>\n",
       "      <td>63.0</td>\n",
       "      <td>277.45222</td>\n",
       "      <td>1.27989</td>\n",
       "      <td>2011-06-11</td>\n",
       "      <td>13:19:09.37</td>\n",
       "      <td>...</td>\n",
       "      <td>/koadata7/NIRSPEC/20110611/lev0/scam/NC.201106...</td>\n",
       "      <td>2011a_n091ns</td>\n",
       "      <td>18.0</td>\n",
       "      <td>scam</td>\n",
       "      <td>NaN</td>\n",
       "      <td>35.61</td>\n",
       "      <td>179.7</td>\n",
       "      <td>NIRSPEC-7</td>\n",
       "      <td>42x0.760</td>\n",
       "      <td>f</td>\n",
       "    </tr>\n",
       "  </tbody>\n",
       "</table>\n",
       "<p>2 rows × 29 columns</p>\n",
       "</div>"
      ],
      "text/plain": [
       "                    koaid instrument       targname        object imagetyp  \\\n",
       "0  NC.20110611.47928.fits    NIRSPEC  Serp 68N/SMM9  HIP 91748 A0   object   \n",
       "1  NC.20110611.47949.fits    NIRSPEC  Serp 68N/SMM9  HIP 91748 A0   object   \n",
       "\n",
       "   frameno         ra      dec    date_obs           ut ...   \\\n",
       "0     62.0  277.45083  1.27850  2011-06-11  13:18:48.57 ...    \n",
       "1     63.0  277.45222  1.27989  2011-06-11  13:19:09.37 ...    \n",
       "\n",
       "                                            filehand         semid  propmin  \\\n",
       "0  /koadata7/NIRSPEC/20110611/lev0/scam/NC.201106...  2011a_n091ns     18.0   \n",
       "1  /koadata7/NIRSPEC/20110611/lev0/scam/NC.201106...  2011a_n091ns     18.0   \n",
       "\n",
       "  detmode dispers disppos echlpos    filname  slitname prop  \n",
       "0    scam     NaN   35.61   179.7  NIRSPEC-7  42x0.760    f  \n",
       "1    scam     NaN   35.61   179.7  NIRSPEC-7  42x0.760    f  \n",
       "\n",
       "[2 rows x 29 columns]"
      ]
     },
     "execution_count": 5,
     "metadata": {},
     "output_type": "execute_result"
    }
   ],
   "source": [
    "sci_df.head(2)"
   ]
  },
  {
   "cell_type": "code",
   "execution_count": 6,
   "metadata": {
    "collapsed": false
   },
   "outputs": [
    {
     "data": {
      "text/plain": [
       "Index(['koaid', 'instrument', 'targname', 'object', 'imagetyp', 'frameno',\n",
       "       'ra', 'dec', 'date_obs', 'ut', 'elaptime', 'waveblue', 'wavered',\n",
       "       'progid', 'proginst', 'progpi', 'progtitl', 'sig2nois', 'slitwidt',\n",
       "       'filehand', 'semid', 'propmin', 'detmode', 'dispers', 'disppos',\n",
       "       'echlpos', 'filname', 'slitname', 'prop'],\n",
       "      dtype='object')"
      ]
     },
     "execution_count": 6,
     "metadata": {},
     "output_type": "execute_result"
    }
   ],
   "source": [
    "sci_df.columns"
   ]
  },
  {
   "cell_type": "markdown",
   "metadata": {},
   "source": [
    "It's a sparse table, just look for unique values."
   ]
  },
  {
   "cell_type": "code",
   "execution_count": 7,
   "metadata": {
    "collapsed": false
   },
   "outputs": [
    {
     "name": "stdout",
     "output_type": "stream",
     "text": [
      "disppos              [ 35.61  35.76  35.45]\n",
      "wavered              [ 2.63]\n",
      "echlpos              [ 179.7    61.89]\n",
      "imagetyp             ['object']\n",
      "dispers              [nan 'high' 'low']\n",
      "instrument           ['NIRSPEC']\n",
      "date_obs             ['2011-06-11' '2013-06-19' '2014-06-18' '2014-06-19' '2003-06-20']\n",
      "progtitl             [ 'Spectroscopy of the Nearest, Youngest, Lowest Mass Candidate Planetary Mass Object'\n",
      " 'Studying the photosphere of a Class 0 protostar'\n",
      " 'The Formation of Substellar Objects']\n",
      "prop                 ['f']\n",
      "object               ['HIP 91748 A0' 'Ser S68N Class 0' 'Ser S68N' 'Oph BD 387 NE'\n",
      " 'HIP 91748 tel STD' 'HIP 91748 A0 tel' 'Kr Lamp' 'HIP 92486 A0 tel'\n",
      " 'EC 38' 'Ser 68N / SMM9' 'Ser S68B' 'Ser S68N CLass 0' 'Ser S68 N Class 0']\n",
      "progid               ['N091NS' 'N062NS' 'N090NS' 'N8NS']\n",
      "waveblue             [ 1.84]\n",
      "slitwidt             [   nan  0.576  0.76 ]\n",
      "detmode              ['scam' 'spec']\n",
      "slitname             ['42x0.760' '0.576x12']\n",
      "filname              ['NIRSPEC-7']\n",
      "proginst             ['NASA']\n",
      "propmin              [ 18.  80.]\n",
      "targname             ['Serp 68N/SMM9' 'Serp S68N' 'CI ISO 254']\n",
      "elaptime             [   5.   20.   40.    1.   24.   10.    7.    8.  900.  150.  120.  140.\n",
      "  130.]\n",
      "semid                ['2011a_n091ns' '2013a_n062ns' '2014a_n090ns' '2003a_n8ns']\n",
      "progpi               ['Barsony' 'T.Greene']\n"
     ]
    }
   ],
   "source": [
    "cols = list(set(sci_df.columns)-{'koaid', 'filehand', 'sig2nois', 'frameno', 'dec', 'ut', 'ra'})\n",
    "for col in cols:\n",
    "    print(\"{:<20}\".format(col), sci_df[col].unique())"
   ]
  },
  {
   "cell_type": "markdown",
   "metadata": {},
   "source": [
    "So the wavelength range is from 1.84 $\\mu$m to 2.63 $\\mu$m, and the resolution is \"low\".  \n",
    "The low resolution mode corresponds to $R\\sim2264$ for an $0.42''$ slit according to the [NIRSPEC website](http://www2.keck.hawaii.edu/koa/public/nspec/nirspec_data_description.html).  \n",
    "These observations used a $0.76''$ slit, so the $R$ should be:"
   ]
  },
  {
   "cell_type": "code",
   "execution_count": 8,
   "metadata": {
    "collapsed": false
   },
   "outputs": [
    {
     "name": "stdout",
     "output_type": "stream",
     "text": [
      "R ~ 1251.2\n"
     ]
    }
   ],
   "source": [
    "est_R = 2264.0/0.76*0.42\n",
    "print(\"R ~ {:.1f}\".format(est_R))"
   ]
  },
  {
   "cell_type": "markdown",
   "metadata": {},
   "source": [
    "What is the on-source integration time?"
   ]
  },
  {
   "cell_type": "code",
   "execution_count": 9,
   "metadata": {
    "collapsed": false
   },
   "outputs": [
    {
     "name": "stdout",
     "output_type": "stream",
     "text": [
      "EC 38                0.50       ['0.576x12'] ['high'] ['NIRSPEC-7']\n",
      "HIP 91748 A0         0.00       ['42x0.760'] [nan] ['NIRSPEC-7']\n",
      "HIP 91748 A0 tel     0.00       ['42x0.760'] [nan] ['NIRSPEC-7']\n",
      "HIP 91748 tel STD    0.01       ['42x0.760'] [nan] ['NIRSPEC-7']\n",
      "HIP 92486 A0 tel     0.02       ['42x0.760'] [nan] ['NIRSPEC-7']\n",
      "Kr Lamp              0.01       ['42x0.760'] [nan] ['NIRSPEC-7']\n",
      "Oph BD 387 NE        0.02       ['42x0.760'] [nan] ['NIRSPEC-7']\n",
      "Ser 68N / SMM9       0.57       ['42x0.760'] ['low'] ['NIRSPEC-7']\n",
      "Ser S68 N Class 0    0.40       ['42x0.760'] ['low'] ['NIRSPEC-7']\n",
      "Ser S68B             0.27       ['42x0.760'] ['low'] ['NIRSPEC-7']\n",
      "Ser S68N             2.87       ['42x0.760'] [nan 'low'] ['NIRSPEC-7']\n",
      "Ser S68N CLass 0     0.53       ['42x0.760'] ['low'] ['NIRSPEC-7']\n",
      "Ser S68N Class 0     3.09       ['42x0.760'] [nan 'low'] ['NIRSPEC-7']\n"
     ]
    }
   ],
   "source": [
    "for s, group in sci_df.groupby('object'):\n",
    "    print(\"{:<20}\".format(s), \"{:<10.2f}\".format(group.elaptime.sum()/3600.0), \n",
    "          group.slitname.unique(), group.dispers.unique(), group['filname'].unique())"
   ]
  },
  {
   "cell_type": "markdown",
   "metadata": {},
   "source": [
    "Looks like a whole night on Keck in total.  Not bad!"
   ]
  },
  {
   "cell_type": "markdown",
   "metadata": {},
   "source": [
    "According to the [Keck NIRSPEC page](http://www2.keck.hawaii.edu/inst/nirspec/Specifications.html), The 'NIRSPEC-7' filter has a wavelength range: 1.839-2.630 $\\mu$m, consistent with the range stated above."
   ]
  }
 ],
 "metadata": {
  "kernelspec": {
   "display_name": "Python 3",
   "language": "python",
   "name": "python3"
  },
  "language_info": {
   "codemirror_mode": {
    "name": "ipython",
    "version": 3
   },
   "file_extension": ".py",
   "mimetype": "text/x-python",
   "name": "python",
   "nbconvert_exporter": "python",
   "pygments_lexer": "ipython3",
   "version": "3.4.5"
  }
 },
 "nbformat": 4,
 "nbformat_minor": 0
}

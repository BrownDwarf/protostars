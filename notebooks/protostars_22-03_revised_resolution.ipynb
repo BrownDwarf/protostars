{
 "cells": [
  {
   "cell_type": "markdown",
   "metadata": {},
   "source": [
    "We just want to revise the resolution that we put in grid_tools.py to account for our new sampling strategy that solves for resolution."
   ]
  },
  {
   "cell_type": "markdown",
   "metadata": {},
   "source": [
    "$$\\delta V_{net}^2 = \\delta V_1^2 + \\delta V_2^2$$"
   ]
  },
  {
   "cell_type": "markdown",
   "metadata": {},
   "source": [
    "We expect our final resolution to be: $R\\sim1250$, so:\n",
    "$$ \\delta V_{net} \\sim 240 \\mathrm\\;{km/s}$$"
   ]
  },
  {
   "cell_type": "code",
   "execution_count": 2,
   "metadata": {
    "collapsed": true
   },
   "outputs": [],
   "source": [
    "#Convert R to FWHM in km/s by \\Delta v = c/R\n",
    "import astropy.constants as C\n",
    "import astropy.units as u"
   ]
  },
  {
   "cell_type": "code",
   "execution_count": 3,
   "metadata": {
    "collapsed": false
   },
   "outputs": [
    {
     "data": {
      "text/latex": [
       "$239.83397 \\; \\mathrm{\\frac{km}{s}}$"
      ],
      "text/plain": [
       "<Quantity 239.8339664 km / s>"
      ]
     },
     "execution_count": 3,
     "metadata": {},
     "output_type": "execute_result"
    }
   ],
   "source": [
    "R_68 = 1250.0\n",
    "dv_fwhm68 = C.c/R_68\n",
    "dv_fwhm68.to(u.km/u.s)"
   ]
  },
  {
   "cell_type": "code",
   "execution_count": 6,
   "metadata": {
    "collapsed": false
   },
   "outputs": [
    {
     "data": {
      "text/plain": [
       "1"
      ]
     },
     "execution_count": 6,
     "metadata": {},
     "output_type": "execute_result"
    }
   ],
   "source": [
    "np.sign(1312)"
   ]
  },
  {
   "cell_type": "markdown",
   "metadata": {},
   "source": [
    "Here is the update to the code at line 100 in the new code **star_proto_varA_K_delV.py**.\n",
    "\n",
    "\n",
    "\n",
    "```python\n",
    "#delR is now rebranded as deltaV, the FWHM of velocity resolution\n",
    "        sigma = p.delR / 2.35 # in km/s\n",
    "        taper = np.exp(-2 * (np.pi ** 2) * np.sign(sigma)*(sigma ** 2) * (self.ss ** 2))\n",
    "        FF_tap = FF * taper\n",
    "```"
   ]
  },
  {
   "cell_type": "markdown",
   "metadata": {},
   "source": [
    "We'll have to put a new velocity prior on it:"
   ]
  },
  {
   "cell_type": "code",
   "execution_count": 13,
   "metadata": {
    "collapsed": false
   },
   "outputs": [
    {
     "data": {
      "text/plain": [
       "(<Quantity 1111.0256503274672>,\n",
       " <Quantity 1250.0>,\n",
       " <Quantity 1428.712725319765>)"
      ]
     },
     "execution_count": 13,
     "metadata": {},
     "output_type": "execute_result"
    }
   ],
   "source": [
    "R_lo = C.c/(dv_fwhm68+30.0*(u.km/u.s))\n",
    "R_md = C.c/(dv_fwhm68+0.0*(u.km/u.s))\n",
    "R_hi = C.c/(dv_fwhm68-30.0*(u.km/u.s))\n",
    "\n",
    "R_lo, R_md, R_hi\n"
   ]
  },
  {
   "cell_type": "markdown",
   "metadata": {},
   "source": [
    "Looks Good.  We'll use a prior of $| \\texttt{delR}| < 30 \\mathrm{km/s}$"
   ]
  },
  {
   "cell_type": "markdown",
   "metadata": {},
   "source": [
    "We will initialize the value at delR = zero km/s."
   ]
  },
  {
   "cell_type": "code",
   "execution_count": null,
   "metadata": {
    "collapsed": true
   },
   "outputs": [],
   "source": []
  }
 ],
 "metadata": {
  "kernelspec": {
   "display_name": "Python 3",
   "language": "python",
   "name": "python3"
  },
  "language_info": {
   "codemirror_mode": {
    "name": "ipython",
    "version": 3
   },
   "file_extension": ".py",
   "mimetype": "text/x-python",
   "name": "python",
   "nbconvert_exporter": "python",
   "pygments_lexer": "ipython3",
   "version": "3.4.5"
  }
 },
 "nbformat": 4,
 "nbformat_minor": 0
}

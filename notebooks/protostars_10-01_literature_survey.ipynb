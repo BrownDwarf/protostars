{
 "cells": [
  {
   "cell_type": "markdown",
   "metadata": {},
   "source": [
    "# protostars\n",
    "## 10- Literature survey\n",
    "### I. Simbad\n",
    "\n",
    "This will show us the dependence"
   ]
  },
  {
   "cell_type": "markdown",
   "metadata": {},
   "source": [
    "The Simbad-able name is: ** `SH 2-68 N`**\n",
    "\n",
    "[Link to simbad query](http://simbad.u-strasbg.fr/simbad/sim-id?submit=display&bibdisplay=refsum&bibyear1=1850&bibyear2=%24currentYear&Ident=%402656191&Name=SH++2-68+N#lab_bib)"
   ]
  },
  {
   "cell_type": "markdown",
   "metadata": {},
   "source": [
    "## Enoch et al. 2009\n",
    "[ADS](http://adsabs.harvard.edu/cgi-bin/nph-bib_query?db_key=AST&bibcode=2009ApJ...692..973E)"
   ]
  },
  {
   "cell_type": "markdown",
   "metadata": {},
   "source": [
    "<img src=http://iopscience.iop.org/0004-637X/692/2/973/downloadHRFigure/figure/apj296687f4></img>"
   ]
  },
  {
   "cell_type": "code",
   "execution_count": null,
   "metadata": {
    "collapsed": true
   },
   "outputs": [],
   "source": []
  }
 ],
 "metadata": {
  "kernelspec": {
   "display_name": "Python 3",
   "language": "python",
   "name": "python3"
  },
  "language_info": {
   "codemirror_mode": {
    "name": "ipython",
    "version": 3
   },
   "file_extension": ".py",
   "mimetype": "text/x-python",
   "name": "python",
   "nbconvert_exporter": "python",
   "pygments_lexer": "ipython3",
   "version": "3.4.5"
  }
 },
 "nbformat": 4,
 "nbformat_minor": 0
}
